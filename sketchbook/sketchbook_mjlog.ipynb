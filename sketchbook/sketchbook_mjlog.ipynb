{
 "cells": [
  {
   "cell_type": "markdown",
   "metadata": {},
   "source": [
    "# mjlog 解析 sketchbook"
   ]
  },
  {
   "cell_type": "markdown",
   "metadata": {},
   "source": [
    "## 基準\n",
    "\n",
    "- 配牌\n",
    "    - P1: hai0=\"112,124,35,135,10,5,25,85,66,8,43,19,1,33\"\n",
    "    - P2: hai1=\"46,96,73,53,128,120,98,89,28,49,41,83,72\"\n",
    "- ツモ \n",
    "    - P0: <T[0-9]>\n",
    "    - P1: <U[0-9]> \n",
    "    - P2: <V[0-9]>\n",
    "    - P3: <W[0-9]>\n",
    "- 打牌 \n",
    "    - P0: <D[0-9]>\n",
    "    - P1: <E[0-9]>\n",
    "    - P2: <F[0-9]>\n",
    "    - P3: <G[0-9]>"
   ]
  },
  {
   "cell_type": "code",
   "execution_count": 10,
   "metadata": {},
   "outputs": [],
   "source": [
    "import datetime\n",
    "import glob\n",
    "import gzip\n",
    "import os\n",
    "import re\n",
    "import sys\n",
    "import xml.etree.ElementTree as ET\n",
    "\n",
    "from bs4 import BeautifulSoup\n",
    "import numpy as np\n",
    "import tensorflow as tf\n",
    "from tqdm.notebook import tqdm\n",
    "\n",
    "sys.path.append('..')\n",
    "from src.meld import Meld"
   ]
  },
  {
   "cell_type": "markdown",
   "metadata": {},
   "source": [
    "### 捨て牌モデル学習用データの作成\n",
    "\n",
    "カラムは15列(配牌+ツモの14枚 と 切った牌1枚) をone-hotに変換する 34 * 14 → 34になるようにする。\n",
    "\n",
    "### ToDo\n",
    "\n",
    "- 牌譜からツモと切る対応を作る\n",
    "    - 途中の副露に対応する\n",
    "\n"
   ]
  },
  {
   "cell_type": "code",
   "execution_count": 11,
   "metadata": {},
   "outputs": [],
   "source": [
    "def parse_mjlog_to_xml(path):\n",
    "    with gzip.open(path, mode='rt') as fp:\n",
    "        mjlog_text = fp.read()\n",
    "    mjlog_xml = ET.fromstring(mjlog_text)\n",
    "\n",
    "    return mjlog_text, mjlog_xml\n",
    "\n",
    "def get_discard_other_pai_vector(manage_each_sutehai_list, player_num, pai):\n",
    "    other_num_list = [1,2,3] if player_num == 0 else [0,2,3] if player_num == 1 else [0,1,3] if player_num == 2 else [0,1,2]\n",
    "    other_player_discard_vector_list = []\n",
    "\n",
    "    manage_each_sutehai_list[player_num].append(pai)\n",
    "    for player in other_num_list:\n",
    "        # other_player_discard_vector_list.append(\n",
    "        #     np.identity(34)[manage_each_sutehai_list[player]].tolist() \\\n",
    "        #         + np.zeros((24 - len(manage_each_sutehai_list[player]), 34)).tolist()\n",
    "        # )\n",
    "\n",
    "        discard_vector = np.zeros((34, 4))\n",
    "        for sutehai_num in manage_each_sutehai_list[player]:\n",
    "            # 34 * 4 のベクトルにフラグを立てていく\n",
    "            discard_vector[sutehai_num][np.where(discard_vector[sutehai_num] == 0)[0][0]] = 1\n",
    "        other_player_discard_vector_list.append(discard_vector.T)\n",
    "    \n",
    "    return manage_each_sutehai_list, other_player_discard_vector_list"
   ]
  },
  {
   "cell_type": "code",
   "execution_count": 12,
   "metadata": {},
   "outputs": [],
   "source": [
    "mjlog_path_list = sorted(glob.glob('../../TenhouXMLAnalize/2019/**.xml'))[:1]"
   ]
  },
  {
   "cell_type": "code",
   "execution_count": 13,
   "metadata": {},
   "outputs": [],
   "source": [
    "# with tf.python_io.TFRecordWriter('player_discard_dataset.tfrecord') as player_discard_dataset:\n",
    "#     # 下記クラスは一つの、KeyValueを設定\n",
    "#     features = tf.train.Features(feature={\n",
    "#         'player_hands' : tf.train.Feature(bytes_list=tf.train.BytesList(value=[sorted(tehai_onehot_vector)])),\n",
    "#         'enemy_hands' : tf.train.Feature(bytes_list=tf.train.BytesList(value=[other_player_discard_vector_list])),\n",
    "#         'discard_target' : tf.train.Feature(bytes_list=tf.train.BytesList(value=[np.identity(34)[pai].tolist()]))\n",
    "#     })\n",
    "#     example = tf.train.Example(features=features)\n",
    "#     # 新しいデータが、追加で書かれていく\n",
    "#     player_discard_dataset.write(example.SerializeToString())"
   ]
  },
  {
   "cell_type": "code",
   "execution_count": 14,
   "metadata": {},
   "outputs": [
    {
     "data": {
      "text/plain": [
       "1"
      ]
     },
     "execution_count": 14,
     "metadata": {},
     "output_type": "execute_result"
    }
   ],
   "source": [
    "len(mjlog_path_list)"
   ]
  },
  {
   "cell_type": "code",
   "execution_count": 16,
   "metadata": {},
   "outputs": [
    {
     "data": {
      "application/vnd.jupyter.widget-view+json": {
       "model_id": "39ea4e536a644626ae71bfa940cdb558",
       "version_major": 2,
       "version_minor": 0
      },
      "text/plain": [
       "  0%|          | 0/1 [00:00<?, ?it/s]"
      ]
     },
     "metadata": {},
     "output_type": "display_data"
    },
    {
     "name": "stdout",
     "output_type": "stream",
     "text": [
      "269\n"
     ]
    }
   ],
   "source": [
    "# データチェック用\n",
    "player_discard_train_vector_list = []\n",
    "other_discard_train_vector_list = []\n",
    "player_discard_target_vector_list= []\n",
    "\n",
    "data_size_counter = 0\n",
    "now = datetime.datetime.now()\n",
    "now_str = now.strftime('%Y%m%d_%H%M%S')\n",
    "\n",
    "with tf.io.TFRecordWriter(f'../data/mahjong_discard_dataset_1000games_{now_str}.tfrecord') as player_discard_dataset:\n",
    "    for mjlog_path in tqdm(mjlog_path_list):\n",
    "        # .mjlogファイルなら\n",
    "        # mjlog_text, mjlog_xml = parse_mjlog_to_xml(os.path.join(os.getcwd(), mjlog_path))\n",
    "        # .xmlなら\n",
    "        with open(os.path.join(os.getcwd(), mjlog_path), 'r') as mjlog:\n",
    "            mjlog_text = mjlog.read()\n",
    "        mjlog_xml = ET.fromstring(mjlog_text) \n",
    "\n",
    "        # 1ゲーム\n",
    "        for n, (mj_xml, mj_text) in enumerate(zip(mjlog_xml.findall('INIT'), re.findall(\"<INIT [^>]*?>(.+?)(<AGARI [^>]*?|<RYUUKYOKU [^>]*?>)\", mjlog_text))):\n",
    "            manage_each_hands_list = [\n",
    "                sorted([int(pai_num) // 4 for pai_num in mj_xml.get('hai0').split(',')]),\n",
    "                sorted([int(pai_num) // 4 for pai_num in mj_xml.get('hai1').split(',')]),\n",
    "                sorted([int(pai_num) // 4 for pai_num in mj_xml.get('hai2').split(',')]),\n",
    "                sorted([int(pai_num) // 4 for pai_num in mj_xml.get('hai3').split(',')])\n",
    "            ]\n",
    "            manage_each_sutehai_list = [[] for _ in range(4)]\n",
    "            # 1局\n",
    "            for move in mj_text[0].split('/>')[:-1]:\n",
    "                # 牌を捨てるタイミングでデータセットを作成する\n",
    "                if move[1:4] in ('REA', 'BYE', 'UN ', 'DOR'): # REACH, BYE, UN , DORAを除外\n",
    "                    continue\n",
    "\n",
    "                player_num = \\\n",
    "                    0 if move[1] in ('T', 'D') else \\\n",
    "                    1 if move[1] in ('U', 'E') else \\\n",
    "                    2 if move[1] in ('V', 'F') else \\\n",
    "                    3 if move[1] in ('W', 'G') else None \n",
    "\n",
    "                # ツモるもしくは捨てる場合は選択牌を管理\n",
    "                if move[1] != 'N':\n",
    "                    pai = int(move[2:]) // 4\n",
    "                \n",
    "                # ツモる\n",
    "                if move[1] in ('T', 'U', 'V', 'W'):\n",
    "                    manage_each_hands_list[player_num].append(pai)\n",
    "                \n",
    "                # 捨てる\n",
    "                if move[1] in ('D', 'E', 'F', 'G'):\n",
    "                    # onehot表現に変換してtrainリストへ\n",
    "                    # tehai_onehot_vector = np.identity(34)[manage_each_hands_list[player_num]].tolist()\n",
    "                    hands_vector = np.zeros((34, 4))\n",
    "                    for hands_num in manage_each_hands_list[player_num]:\n",
    "                        # 34 * 4 のベクトルにフラグを立てていく\n",
    "                        hands_vector[hands_num][np.where(hands_vector[hands_num] == 0)[0][0]] = 1\n",
    "                    tehai_onehot_vector = hands_vector.T\n",
    "\n",
    "                    # 副露対応\n",
    "                    # if len(tehai_onehot_vector) < 14:\n",
    "                    #     while len(tehai_onehot_vector) < 14:\n",
    "                    #         tehai_onehot_vector.append(np.zeros(34).tolist())\n",
    "\n",
    "                    # 他家の捨て牌\n",
    "                    manage_each_sutehai_list, other_player_discard_vector_list = \\\n",
    "                        get_discard_other_pai_vector(manage_each_sutehai_list, player_num, pai)\n",
    "                        \n",
    "                    other_discard_train_vector_list.append(other_player_discard_vector_list)\n",
    "\n",
    "                    other_discard_train_vector = tf.convert_to_tensor(other_player_discard_vector_list)\n",
    "                    other_discard_train_vector = tf.io.serialize_tensor(other_discard_train_vector)\n",
    "\n",
    "                    # 自分の手牌\n",
    "                    player_discard_train_vector_list.append(tehai_onehot_vector)\n",
    "                    \n",
    "                    player_discard_train_vector = tf.convert_to_tensor(tehai_onehot_vector)\n",
    "                    player_discard_train_vector = tf.io.serialize_tensor(player_discard_train_vector)\n",
    "\n",
    "                    # 自分の切り出し牌\n",
    "                    player_discard_target_vector_list.append(np.identity(34)[pai].tolist())\n",
    "\n",
    "                    player_discard_target_vector = tf.convert_to_tensor(np.identity(34)[pai].tolist())\n",
    "                    player_discard_target_vector = tf.io.serialize_tensor(player_discard_target_vector)\n",
    "\n",
    "                     # 下記クラスは一つの、KeyValueを設定\n",
    "                    features = tf.train.Features(feature={\n",
    "                        'player_hands' : tf.train.Feature(bytes_list=tf.train.BytesList(value=[player_discard_train_vector.numpy()])),\n",
    "                        'enemy_discards' : tf.train.Feature(bytes_list=tf.train.BytesList(value=[other_discard_train_vector.numpy()])),\n",
    "                        'player_discard' : tf.train.Feature(bytes_list=tf.train.BytesList(value=[player_discard_target_vector.numpy()]))\n",
    "                    })\n",
    "\n",
    "                    example = tf.train.Example(features=features)\n",
    "                    # 新しいデータが、追加で書かれていく\n",
    "                    player_discard_dataset.write(example.SerializeToString())\n",
    "\n",
    "                    # 手牌操作\n",
    "                    manage_each_hands_list[player_num].remove(pai)\n",
    "\n",
    "                    # データサイズカウント\n",
    "                    data_size_counter = data_size_counter + 1\n",
    "\n",
    "                # 鳴く\n",
    "                if move[1] == 'N':\n",
    "                    meld_info = move.split(' ')\n",
    "                    who = int(re.sub(\"\\\\D\", \"\", meld_info[1]))\n",
    "                    meld_num = int(re.sub(\"\\\\D\", \"\", meld_info[2]))\n",
    "                    meld_info_list = Meld(meld_num).getIndex()\n",
    "\n",
    "                    if meld_info_list in ('ポン', 'チー'):\n",
    "                        manage_each_hands_list[who].remove(meld_info_list[2])\n",
    "                        manage_each_hands_list[who].remove(meld_info_list[3])\n",
    "                    elif meld_info_list == '加カン':\n",
    "                        manage_each_hands_list[who].remove(meld_info_list[4])\n",
    "                    elif meld_info_list == '明カン':\n",
    "                        manage_each_hands_list[who].remove(meld_info_list[2])\n",
    "                        manage_each_hands_list[who].remove(meld_info_list[2])\n",
    "                        manage_each_hands_list[who].remove(meld_info_list[2])\n",
    "                    elif meld_info_list == '暗カン':\n",
    "                        manage_each_hands_list[who].remove(meld_info_list[2])\n",
    "                        manage_each_hands_list[who].remove(meld_info_list[2])\n",
    "                        manage_each_hands_list[who].remove(meld_info_list[2])\n",
    "                        manage_each_hands_list[who].remove(meld_info_list[2])\n",
    "\n",
    "print(data_size_counter)"
   ]
  },
  {
   "cell_type": "code",
   "execution_count": 19,
   "metadata": {},
   "outputs": [
    {
     "data": {
      "text/plain": [
       "array([[0., 0., 0., 0.],\n",
       "       [1., 1., 0., 0.],\n",
       "       [0., 0., 0., 0.],\n",
       "       [0., 0., 0., 0.],\n",
       "       [0., 0., 0., 0.],\n",
       "       [0., 0., 0., 0.],\n",
       "       [0., 0., 0., 0.],\n",
       "       [0., 0., 0., 0.],\n",
       "       [0., 0., 0., 0.],\n",
       "       [0., 0., 0., 0.],\n",
       "       [0., 0., 0., 0.],\n",
       "       [1., 1., 0., 0.],\n",
       "       [0., 0., 0., 0.],\n",
       "       [0., 0., 0., 0.],\n",
       "       [0., 0., 0., 0.],\n",
       "       [1., 0., 0., 0.],\n",
       "       [0., 0., 0., 0.],\n",
       "       [1., 0., 0., 0.],\n",
       "       [0., 0., 0., 0.],\n",
       "       [1., 0., 0., 0.],\n",
       "       [0., 0., 0., 0.],\n",
       "       [1., 0., 0., 0.],\n",
       "       [0., 0., 0., 0.],\n",
       "       [0., 0., 0., 0.],\n",
       "       [1., 0., 0., 0.],\n",
       "       [0., 0., 0., 0.],\n",
       "       [0., 0., 0., 0.],\n",
       "       [0., 0., 0., 0.],\n",
       "       [1., 0., 0., 0.],\n",
       "       [0., 0., 0., 0.],\n",
       "       [0., 0., 0., 0.],\n",
       "       [1., 0., 0., 0.],\n",
       "       [0., 0., 0., 0.],\n",
       "       [1., 1., 1., 0.]])"
      ]
     },
     "execution_count": 19,
     "metadata": {},
     "output_type": "execute_result"
    }
   ],
   "source": [
    "player_discard_train_vector_list[0].T"
   ]
  },
  {
   "cell_type": "code",
   "execution_count": 20,
   "metadata": {},
   "outputs": [
    {
     "data": {
      "text/plain": [
       "[0.0,\n",
       " 0.0,\n",
       " 0.0,\n",
       " 0.0,\n",
       " 0.0,\n",
       " 0.0,\n",
       " 0.0,\n",
       " 0.0,\n",
       " 0.0,\n",
       " 0.0,\n",
       " 0.0,\n",
       " 0.0,\n",
       " 0.0,\n",
       " 0.0,\n",
       " 0.0,\n",
       " 0.0,\n",
       " 0.0,\n",
       " 0.0,\n",
       " 0.0,\n",
       " 0.0,\n",
       " 0.0,\n",
       " 0.0,\n",
       " 0.0,\n",
       " 0.0,\n",
       " 0.0,\n",
       " 0.0,\n",
       " 0.0,\n",
       " 0.0,\n",
       " 1.0,\n",
       " 0.0,\n",
       " 0.0,\n",
       " 0.0,\n",
       " 0.0,\n",
       " 0.0]"
      ]
     },
     "execution_count": 20,
     "metadata": {},
     "output_type": "execute_result"
    }
   ],
   "source": [
    "player_discard_target_vector_list[0] #  29"
   ]
  }
 ],
 "metadata": {
  "interpreter": {
   "hash": "152e6b4cb125881c6dba00656c24b721582d6479757e7b2d4a560d0c66c7c012"
  },
  "kernelspec": {
   "display_name": "Python 3.9.1 64-bit ('3.9.1': pyenv)",
   "name": "python3"
  },
  "language_info": {
   "codemirror_mode": {
    "name": "ipython",
    "version": 3
   },
   "file_extension": ".py",
   "mimetype": "text/x-python",
   "name": "python",
   "nbconvert_exporter": "python",
   "pygments_lexer": "ipython3",
   "version": "3.9.1"
  },
  "metadata": {
   "interpreter": {
    "hash": "bf29f6e6efef36efaacb8875ae51f2d408503bccaccd4943d6c3c854973c6b9d"
   }
  },
  "orig_nbformat": 2
 },
 "nbformat": 4,
 "nbformat_minor": 2
}