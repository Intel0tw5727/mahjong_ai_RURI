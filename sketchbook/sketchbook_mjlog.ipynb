{
 "cells": [
  {
   "cell_type": "markdown",
   "metadata": {},
   "source": [
    "# mjlog 解析 sketchbook"
   ]
  },
  {
   "cell_type": "markdown",
   "metadata": {},
   "source": [
    "## 基準\n",
    "\n",
    "- 配牌\n",
    "    - P1: hai0=\"112,124,35,135,10,5,25,85,66,8,43,19,1,33\"\n",
    "    - P2: hai1=\"46,96,73,53,128,120,98,89,28,49,41,83,72\"\n",
    "- ツモ \n",
    "    - P0: <T[0-9]>\n",
    "    - P1: <U[0-9]> \n",
    "    - P2: <V[0-9]>\n",
    "    - P3: <W[0-9]>\n",
    "- 打牌 \n",
    "    - P0: <D[0-9]>\n",
    "    - P1: <E[0-9]>\n",
    "    - P2: <F[0-9]>\n",
    "    - P3: <G[0-9]>"
   ]
  },
  {
   "cell_type": "code",
   "execution_count": 5,
   "metadata": {},
   "outputs": [],
   "source": [
    "import glob\n",
    "import gzip\n",
    "import os\n",
    "import re\n",
    "import xml.etree.ElementTree as ET\n",
    "\n",
    "from bs4 import BeautifulSoup\n",
    "import numpy as np\n",
    "from tqdm import notebook as tqdm\n",
    "\n",
    "from meld import Meld"
   ]
  },
  {
   "cell_type": "markdown",
   "metadata": {},
   "source": [
    "### 捨て牌モデル学習用データの作成\n",
    "\n",
    "カラムは15列(配牌+ツモの14枚 と 切った牌1枚) をone-hotに変換する 34 * 14 → 34になるようにする。\n",
    "\n",
    "### ToDo\n",
    "\n",
    "- 牌譜からツモと切る対応を作る\n",
    "    - 途中の副露に対応する\n",
    "\n"
   ]
  },
  {
   "cell_type": "code",
   "execution_count": 2,
   "metadata": {},
   "outputs": [],
   "source": [
    "def parse_mjlog_to_xml(path):\n",
    "    with gzip.open(path, mode='rt') as fp:\n",
    "        mjlog_text = fp.read()\n",
    "    mjlog_xml = ET.fromstring(mjlog_text)\n",
    "\n",
    "    return mjlog_text, mjlog_xml\n",
    "\n",
    "def get_discard_other_pai_vector(manage_each_sutehai_list, player_num):\n",
    "    other_num_list = [1,2,3] if player_num == 0 else [0,2,3] if player_num == 1 else [0,1,3] if player_num == 2 else [0,1,2]\n",
    "    other_player_discard_vector_list = []\n",
    "\n",
    "    manage_each_sutehai_list[player_num].append(pai)\n",
    "    for player in other_num_list:\n",
    "        other_player_discard_vector_list.append(\n",
    "            np.identity(34)[manage_each_sutehai_list[player]].tolist() \\\n",
    "                + np.zeros((24 - len(manage_each_sutehai_list[player]), 34)).tolist()\n",
    "        )\n",
    "    \n",
    "    return manage_each_sutehai_list, other_player_discard_vector_list"
   ]
  },
  {
   "cell_type": "code",
   "execution_count": 3,
   "metadata": {},
   "outputs": [],
   "source": [
    "mjlog_path_list = sorted(glob.glob('mjlog_pf4-20_n1/**.mjlog'))[:10]"
   ]
  },
  {
   "cell_type": "code",
   "execution_count": 4,
   "metadata": {},
   "outputs": [
    {
     "name": "stderr",
     "output_type": "stream",
     "text": [
      "<ipython-input-4-fe3b6f95cae2>:6: TqdmDeprecationWarning: This function will be removed in tqdm==5.0.0\n",
      "Please use `tqdm.notebook.tqdm` instead of `tqdm.tqdm_notebook`\n",
      "  for mjlog_path in tqdm(mjlog_path_list):\n"
     ]
    },
    {
     "data": {
      "application/vnd.jupyter.widget-view+json": {
       "model_id": "c0d0c1aa53134fd69139a70e11e434d4",
       "version_major": 2,
       "version_minor": 0
      },
      "text/plain": [
       "  0%|          | 0/10 [00:00<?, ?it/s]"
      ]
     },
     "metadata": {},
     "output_type": "display_data"
    }
   ],
   "source": [
    "# ToDo: 定期的にエクスポートするコードを書く\n",
    "player_discard_train_vector_list = []\n",
    "other_discard_train_vector_list = []\n",
    "player_discard_target_vector_list= []\n",
    " \n",
    "for mjlog_path in tqdm(mjlog_path_list):\n",
    "    mjlog_text, mjlog_xml = parse_mjlog_to_xml(os.path.join(os.getcwd(), mjlog_path))\n",
    "    # 1ゲーム\n",
    "    for n, (mj_xml, mj_text) in enumerate(zip(mjlog_xml.findall('INIT'), re.findall(\"<INIT [^>]*?>(.+?)(<AGARI [^>]*?|<RYUUKYOKU [^>]*?>)\", mjlog_text))):\n",
    "        manage_each_tehai_list = [\n",
    "            sorted([int(pai_num) // 4 for pai_num in mj_xml.get('hai0').split(',')]),\n",
    "            sorted([int(pai_num) // 4 for pai_num in mj_xml.get('hai1').split(',')]),\n",
    "            sorted([int(pai_num) // 4 for pai_num in mj_xml.get('hai2').split(',')]),\n",
    "            sorted([int(pai_num) // 4 for pai_num in mj_xml.get('hai3').split(',')])\n",
    "        ]\n",
    "        manage_each_sutehai_list = [[] for _ in range(4)]\n",
    "        # 1局\n",
    "        for move in mj_text[0].split('/>')[:-1]:\n",
    "            # 牌を捨てるタイミングでデータセットを作成する\n",
    "            if move[1:4] in ('REA', 'BYE', 'UN ', 'DOR'): # REACH, BYE, UN , DORAを除外\n",
    "                continue\n",
    "\n",
    "            player_num = \\\n",
    "                0 if move[1] in ('T', 'D') else \\\n",
    "                1 if move[1] in ('U', 'E') else \\\n",
    "                2 if move[1] in ('V', 'F') else \\\n",
    "                3 if move[1] in ('W', 'G') else None \n",
    "\n",
    "            # ツモるもしくは捨てる場合は選択牌を管理\n",
    "            if move[1] != 'N':\n",
    "                pai = int(move[2:]) // 4\n",
    "            \n",
    "            # ツモる\n",
    "            if move[1] in ('T', 'U', 'V', 'W'):\n",
    "                manage_each_tehai_list[player_num].append(pai)\n",
    "            \n",
    "            # 捨てる\n",
    "            if move[1] in ('D', 'E', 'F', 'G'):\n",
    "                # onehot表現に変換してtrainリストへ\n",
    "                tehai_onehot_vector = np.identity(34)[manage_each_tehai_list[player_num]].tolist()\n",
    "                # 副露対応\n",
    "                if len(tehai_onehot_vector) < 14:\n",
    "                    while len(tehai_onehot_vector) < 14:\n",
    "                        tehai_onehot_vector.append(np.zeros(34).tolist())\n",
    "\n",
    "                # 他家の捨て牌\n",
    "                manage_each_sutehai_list, other_player_discard_vector_list = \\\n",
    "                    get_discard_other_pai_vector(manage_each_sutehai_list, player_num)\n",
    "                other_discard_train_vector_list.append(other_player_discard_vector_list)\n",
    "\n",
    "                # 自分の手牌\n",
    "                player_discard_train_vector_list.append(sorted(tehai_onehot_vector))\n",
    "\n",
    "                # 自分の切り出し牌\n",
    "                player_discard_target_vector_list.append(np.identity(34)[pai].tolist())\n",
    "\n",
    "                # 手牌操作\n",
    "                manage_each_tehai_list[player_num].remove(pai)\n",
    "\n",
    "            # 鳴く\n",
    "            if move[1] == 'N':\n",
    "                meld_info = move.split(' ')\n",
    "                who = int(re.sub(\"\\\\D\", \"\", meld_info[1]))\n",
    "                meld_num = int(re.sub(\"\\\\D\", \"\", meld_info[2]))\n",
    "                meld_info_list = Meld(meld_num).getIndex()\n",
    "\n",
    "                if meld_info_list in ('ポン', 'チー'):\n",
    "                    manage_each_tehai_list[who].remove(meld_info_list[2])\n",
    "                    manage_each_tehai_list[who].remove(meld_info_list[3])\n",
    "                elif meld_info_list == '加カン':\n",
    "                    manage_each_tehai_list[who].remove(meld_info_list[4])\n",
    "                elif meld_info_list == '明カン':\n",
    "                    manage_each_tehai_list[who].remove(meld_info_list[2])\n",
    "                    manage_each_tehai_list[who].remove(meld_info_list[2])\n",
    "                    manage_each_tehai_list[who].remove(meld_info_list[2])\n",
    "                elif meld_info_list == '暗カン':\n",
    "                    manage_each_tehai_list[who].remove(meld_info_list[2])\n",
    "                    manage_each_tehai_list[who].remove(meld_info_list[2])\n",
    "                    manage_each_tehai_list[who].remove(meld_info_list[2])\n",
    "                    manage_each_tehai_list[who].remove(meld_info_list[2])\n"
   ]
  },
  {
   "cell_type": "code",
   "execution_count": null,
   "metadata": {},
   "outputs": [],
   "source": [
    "manage_each_tehai_list = [haipai_p0.copy(), haipai_p1.copy(), haipai_p2.copy(), haipai_p3.copy()]\n",
    "manage_each_sutehai_list = [[] for _ in range(4)]\n",
    "player_discard_train_vector_list = []\n",
    "other_discard_train_vector_list = []\n",
    "player_discard_target_vector_list= []\n",
    "\n",
    "for move in tqdm(sutehai_all.split('/>')[:-1]):\n",
    "    train_data_list = []\n",
    "    # 牌を捨てるタイミングでデータセットを作成する\n",
    "    if move[1] == 'R': # REACH\n",
    "        continue\n",
    "\n",
    "    player_num = \\\n",
    "        0 if move[1] in ('T', 'D') else \\\n",
    "        1 if move[1] in ('U', 'E') else \\\n",
    "        2 if move[1] in ('V', 'F') else \\\n",
    "        3 if move[1] in ('W', 'G') else None \n",
    "\n",
    "    # ツモるもしくは捨てる場合は選択牌を管理\n",
    "    if move[1] != 'N':\n",
    "        pai = int(move[2:]) // 4\n",
    "    \n",
    "    # ツモる\n",
    "    if move[1] in ('T', 'U', 'V', 'W'):\n",
    "        manage_each_tehai_list[player_num].append(pai)\n",
    "    \n",
    "    # 捨てる\n",
    "    if move[1] in ('D', 'E', 'F', 'G'):\n",
    "        # onehot表現に変換してtrainリストへ\n",
    "        tehai_onehot_vector = np.identity(34)[manage_each_tehai_list[player_num]].tolist()\n",
    "        # 副露対応\n",
    "        if len(tehai_onehot_vector) < 14:\n",
    "            while len(tehai_onehot_vector) < 14:\n",
    "                tehai_onehot_vector.append(np.zeros(34).tolist())\n",
    "\n",
    "        # 他家の捨て牌\n",
    "        manage_each_sutehai_list, other_player_discard_vector_list = \\\n",
    "            get_discard_other_pai_vector(manage_each_sutehai_list, player_num)\n",
    "        other_discard_train_vector_list.append(other_player_discard_vector_list)\n",
    "\n",
    "        # 自分の手牌\n",
    "        player_discard_train_vector_list.append(sorted(tehai_onehot_vector))\n",
    "\n",
    "        # 自分の切り出し牌\n",
    "        player_discard_target_vector_list.append(np.identity(34)[pai].tolist())\n",
    "\n",
    "        # 手牌操作\n",
    "        manage_each_tehai_list[player_num].remove(pai)\n",
    "\n",
    "    # 鳴く\n",
    "    if move[1] == 'N':\n",
    "        meld_info = move.split(' ')\n",
    "        who = int(re.sub(\"\\\\D\", \"\", meld_info[1]))\n",
    "        meld_num = int(re.sub(\"\\\\D\", \"\", meld_info[2]))\n",
    "        meld_info_list = Meld(meld_num).getIndex()\n",
    "\n",
    "        manage_each_tehai_list[who].remove(meld_info_list[2])\n",
    "        manage_each_tehai_list[who].remove(meld_info_list[3])"
   ]
  },
  {
   "cell_type": "code",
   "execution_count": 5,
   "metadata": {},
   "outputs": [
    {
     "data": {
      "text/plain": [
       "(5034, 3, 24, 34)"
      ]
     },
     "execution_count": 5,
     "metadata": {},
     "output_type": "execute_result"
    }
   ],
   "source": [
    "np.array(other_discard_train_vector_list).shape"
   ]
  },
  {
   "cell_type": "code",
   "execution_count": 6,
   "metadata": {},
   "outputs": [
    {
     "name": "stderr",
     "output_type": "stream",
     "text": [
      "<ipython-input-6-7e3d31361622>:1: VisibleDeprecationWarning: Creating an ndarray from ragged nested sequences (which is a list-or-tuple of lists-or-tuples-or ndarrays with different lengths or shapes) is deprecated. If you meant to do this, you must specify 'dtype=object' when creating the ndarray.\n",
      "  np.array(player_discard_train_vector_list).shape\n"
     ]
    },
    {
     "data": {
      "text/plain": [
       "(5034,)"
      ]
     },
     "execution_count": 6,
     "metadata": {},
     "output_type": "execute_result"
    }
   ],
   "source": [
    "np.array(player_discard_train_vector_list).shape"
   ]
  }
 ],
 "metadata": {
  "interpreter": {
   "hash": "152e6b4cb125881c6dba00656c24b721582d6479757e7b2d4a560d0c66c7c012"
  },
  "kernelspec": {
   "display_name": "Python 3.9.1 64-bit ('3.9.1': pyenv)",
   "name": "python3"
  },
  "language_info": {
   "codemirror_mode": {
    "name": "ipython",
    "version": 3
   },
   "file_extension": ".py",
   "mimetype": "text/x-python",
   "name": "python",
   "nbconvert_exporter": "python",
   "pygments_lexer": "ipython3",
   "version": "3.9.1"
  },
  "metadata": {
   "interpreter": {
    "hash": "bf29f6e6efef36efaacb8875ae51f2d408503bccaccd4943d6c3c854973c6b9d"
   }
  },
  "orig_nbformat": 2
 },
 "nbformat": 4,
 "nbformat_minor": 2
}